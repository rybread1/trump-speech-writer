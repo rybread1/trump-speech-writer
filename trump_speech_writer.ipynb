{
  "nbformat": 4,
  "nbformat_minor": 0,
  "metadata": {
    "colab": {
      "name": "trump_speech_writer.ipynb",
      "provenance": [],
      "collapsed_sections": [],
      "authorship_tag": "ABX9TyMeMeqInd80pOFCndLlIeLf",
      "include_colab_link": true
    },
    "kernelspec": {
      "name": "python3",
      "display_name": "Python 3"
    },
    "accelerator": "GPU"
  },
  "cells": [
    {
      "cell_type": "markdown",
      "metadata": {
        "id": "view-in-github",
        "colab_type": "text"
      },
      "source": [
        "<a href=\"https://colab.research.google.com/github/rybread1/trump-speech-writer/blob/master/trump_speech_writer.ipynb\" target=\"_parent\"><img src=\"https://colab.research.google.com/assets/colab-badge.svg\" alt=\"Open In Colab\"/></a>"
      ]
    },
    {
      "cell_type": "code",
      "metadata": {
        "id": "xYqId2KNgX1j",
        "colab_type": "code",
        "colab": {}
      },
      "source": [
        "import numpy as np\n",
        "import tensorflow as tf\n",
        "from tensorflow import keras\n",
        "from tensorflow.keras import layers\n",
        "import datetime\n",
        "import itertools\n",
        "from collections import Counter\n",
        "\n",
        "import os"
      ],
      "execution_count": null,
      "outputs": []
    },
    {
      "cell_type": "code",
      "metadata": {
        "id": "MKgal3rXglam",
        "colab_type": "code",
        "colab": {
          "base_uri": "https://localhost:8080/",
          "height": 69
        },
        "outputId": "4522b2e5-ed67-4901-e308-8b4911b06c56"
      },
      "source": [
        "from gensim.models import Word2Vec\n",
        "from gensim.models import KeyedVectors\n",
        "import nltk\n",
        "\n",
        "nltk.download('punkt')"
      ],
      "execution_count": null,
      "outputs": [
        {
          "output_type": "stream",
          "text": [
            "[nltk_data] Downloading package punkt to /root/nltk_data...\n",
            "[nltk_data]   Unzipping tokenizers/punkt.zip.\n"
          ],
          "name": "stdout"
        },
        {
          "output_type": "execute_result",
          "data": {
            "text/plain": [
              "True"
            ]
          },
          "metadata": {
            "tags": []
          },
          "execution_count": 2
        }
      ]
    },
    {
      "cell_type": "code",
      "metadata": {
        "id": "AmAAArBi4W7P",
        "colab_type": "code",
        "colab": {
          "base_uri": "https://localhost:8080/",
          "height": 121
        },
        "outputId": "80427b36-263f-4e9b-e940-4d3d76fcd570"
      },
      "source": [
        "!git clone https://github.com/rybread1/trump_speech_writer"
      ],
      "execution_count": null,
      "outputs": [
        {
          "output_type": "stream",
          "text": [
            "Cloning into 'trump_speech_writer'...\n",
            "remote: Enumerating objects: 56, done.\u001b[K\n",
            "remote: Counting objects: 100% (56/56), done.\u001b[K\n",
            "remote: Compressing objects: 100% (44/44), done.\u001b[K\n",
            "remote: Total 56 (delta 17), reused 34 (delta 9), pack-reused 0\u001b[K\n",
            "Unpacking objects: 100% (56/56), done.\n"
          ],
          "name": "stdout"
        }
      ]
    },
    {
      "cell_type": "code",
      "metadata": {
        "id": "McvkTbG5F69P",
        "colab_type": "code",
        "colab": {}
      },
      "source": [
        "## Reading and processing text\n",
        "with open('/content/trump_speech_writer/speeches.txt', 'r') as fp:\n",
        "    text = fp.read()\n",
        "\n",
        "text = text[6:]\n",
        "# text = text.replace('–', '-').replace('—', '-').replace('”', '\"').replace('”', '\"').replace('‘', \"'\").replace('’', \"'\").replace('“', '\"').replace('…', '').lower()\n",
        "\n",
        "# char_set = set(text) # unique character set\n",
        "# char_set_sorted = sorted(char_set)\n",
        "\n",
        "# char_2_int_dict = {ch:i for i,ch in enumerate(char_set_sorted)} # dict mapping char to int\n",
        "# char_array = np.array(char_set_sorted) # array mapping idx to char\n",
        "\n",
        "# text_encoded = np.array(\n",
        "#     [char_2_int_dict[ch] for ch in text],\n",
        "#     dtype=np.int32)"
      ],
      "execution_count": null,
      "outputs": []
    },
    {
      "cell_type": "code",
      "metadata": {
        "id": "nk34aJQMoT-q",
        "colab_type": "code",
        "colab": {}
      },
      "source": [
        "# tokenize full text into individual words\n",
        "rex_tokenizer = nltk.tokenize.TreebankWordTokenizer()\n",
        "text_tokens = rex_tokenizer.tokenize(text)\n",
        "\n",
        "word_set = set(text_tokens)\n",
        "word_set_sorted = sorted(word_set)\n",
        "\n",
        "word_2_int_dict = {ch:i for i,ch in enumerate(word_set_sorted)}\n",
        "word_array = np.array(word_set_sorted)\n",
        "\n",
        "text_encoded = np.array(\n",
        "    [word_2_int_dict[ch] for ch in text_tokens],\n",
        "    dtype=np.int32)"
      ],
      "execution_count": null,
      "outputs": []
    },
    {
      "cell_type": "code",
      "metadata": {
        "id": "1mjYtzdJIck-",
        "colab_type": "code",
        "colab": {
          "base_uri": "https://localhost:8080/",
          "height": 34
        },
        "outputId": "f15a0734-3a2a-4a6c-9b83-0090378a145e"
      },
      "source": [
        "ds_text_encoded = tf.data.Dataset.from_tensor_slices(text_encoded)\n",
        "\n",
        "seq_length = 30 \n",
        "ds_chunks = ds_text_encoded.batch(seq_length+1, drop_remainder=True) \n",
        "\n",
        "## define the function for splitting x & y\n",
        "def split_input_target(chunk):\n",
        "    input_seq = chunk[:-1]\n",
        "    target_seq = chunk[1:]\n",
        "    return input_seq, target_seq\n",
        "\n",
        "ds_sequences = ds_chunks.map(split_input_target)\n",
        "\n",
        "# Batch size\n",
        "BATCH_SIZE = 64\n",
        "BUFFER_SIZE = 20000\n",
        "\n",
        "tf.random.set_seed(1)\n",
        "ds = ds_sequences.shuffle(BUFFER_SIZE).batch(BATCH_SIZE)\n",
        "\n",
        "def get_test_train_split(text, seq_length, batch_size, train_split=0.8):\n",
        "    return round(np.floor(len(text) / seq_length / batch_size) * train_split)\n",
        "\n",
        "train_batches = get_test_train_split(text_encoded, seq_length, BATCH_SIZE, train_split=0.7)\n",
        "print('train batches: ', train_batches)\n",
        "\n",
        "ds_train = ds.take(train_batches)\n",
        "ds_valid = ds.skip(train_batches)"
      ],
      "execution_count": null,
      "outputs": [
        {
          "output_type": "stream",
          "text": [
            "train batches:  93.0\n"
          ],
          "name": "stdout"
        }
      ]
    },
    {
      "cell_type": "code",
      "metadata": {
        "id": "ajZHQBa8SLsv",
        "colab_type": "code",
        "colab": {
          "base_uri": "https://localhost:8080/",
          "height": 1000
        },
        "outputId": "297435fb-570d-4f5d-f14e-a71284c0b4f0"
      },
      "source": [
        "def build_model(input_size, vocab_size, embedding_dim, rnn_units, dropout=True):\n",
        "    inputs = tf.keras.Input(input_size)\n",
        "    x = tf.keras.layers.Embedding(vocab_size, embedding_dim)(inputs)\n",
        "    x = tf.keras.layers.LSTM(rnn_units, return_sequences=True)(x)\n",
        "    outputs = tf.keras.layers.Dense(vocab_size)(x)\n",
        "    model = tf.keras.Model(inputs, outputs)\n",
        "    return model\n",
        "\n",
        "tf.random.set_seed(1)\n",
        "\n",
        "model = build_model(input_size=seq_length, vocab_size=len(word_array), \n",
        "                    embedding_dim=256, rnn_units=512)\n",
        "\n",
        "model.compile(optimizer=tf.keras.optimizers.Adam(learning_rate=0.001), \n",
        "              loss=tf.keras.losses.SparseCategoricalCrossentropy(from_logits=True),\n",
        "              metrics=['accuracy'])\n",
        "\n",
        "model.summary()\n",
        "checkpoint_path = \"training_1/cp.ckpt\"\n",
        "\n",
        "# Create a callback that saves the model's weights\n",
        "cp_callback = tf.keras.callbacks.ModelCheckpoint(filepath=checkpoint_path,\n",
        "                                                 save_weights_only=True,\n",
        "                                                 verbose=0)\n",
        "\n",
        "early_stop_callback = tf.keras.callbacks.EarlyStopping(monitor='val_loss', \n",
        "                                                       patience=3, \n",
        "                                                       restore_best_weights=True)\n",
        "\n",
        "\n",
        "results = model.fit(ds_train, \n",
        "                    validation_data=ds_valid, \n",
        "                    epochs=100, \n",
        "                    callbacks=[early_stop_callback, \n",
        "                               cp_callback])\n",
        "\n"
      ],
      "execution_count": null,
      "outputs": [
        {
          "output_type": "stream",
          "text": [
            "Model: \"functional_1\"\n",
            "_________________________________________________________________\n",
            "Layer (type)                 Output Shape              Param #   \n",
            "=================================================================\n",
            "input_1 (InputLayer)         [(None, 30)]              0         \n",
            "_________________________________________________________________\n",
            "embedding (Embedding)        (None, 30, 256)           3165440   \n",
            "_________________________________________________________________\n",
            "lstm (LSTM)                  (None, 30, 512)           1574912   \n",
            "_________________________________________________________________\n",
            "dense (Dense)                (None, 30, 12365)         6343245   \n",
            "=================================================================\n",
            "Total params: 11,083,597\n",
            "Trainable params: 11,083,597\n",
            "Non-trainable params: 0\n",
            "_________________________________________________________________\n",
            "Epoch 1/100\n",
            "93/93 [==============================] - 8s 90ms/step - loss: 7.2753 - accuracy: 0.0490 - val_loss: 6.7476 - val_accuracy: 0.0511\n",
            "Epoch 2/100\n",
            "93/93 [==============================] - 8s 86ms/step - loss: 6.6717 - accuracy: 0.0576 - val_loss: 6.4635 - val_accuracy: 0.0747\n",
            "Epoch 3/100\n",
            "93/93 [==============================] - 8s 84ms/step - loss: 6.2871 - accuracy: 0.0846 - val_loss: 6.0144 - val_accuracy: 0.1052\n",
            "Epoch 4/100\n",
            "93/93 [==============================] - 8s 84ms/step - loss: 5.8964 - accuracy: 0.1205 - val_loss: 5.6370 - val_accuracy: 0.1389\n",
            "Epoch 5/100\n",
            "93/93 [==============================] - 8s 83ms/step - loss: 5.5936 - accuracy: 0.1444 - val_loss: 5.4226 - val_accuracy: 0.1562\n",
            "Epoch 6/100\n",
            "93/93 [==============================] - 8s 84ms/step - loss: 5.3722 - accuracy: 0.1575 - val_loss: 5.2046 - val_accuracy: 0.1638\n",
            "Epoch 7/100\n",
            "93/93 [==============================] - 8s 83ms/step - loss: 5.1851 - accuracy: 0.1696 - val_loss: 5.0343 - val_accuracy: 0.1771\n",
            "Epoch 8/100\n",
            "93/93 [==============================] - 8s 86ms/step - loss: 5.0103 - accuracy: 0.1823 - val_loss: 4.8780 - val_accuracy: 0.1906\n",
            "Epoch 9/100\n",
            "93/93 [==============================] - 8s 84ms/step - loss: 4.8727 - accuracy: 0.1939 - val_loss: 4.7248 - val_accuracy: 0.2026\n",
            "Epoch 10/100\n",
            "93/93 [==============================] - 8s 84ms/step - loss: 4.7331 - accuracy: 0.2045 - val_loss: 4.6096 - val_accuracy: 0.2086\n",
            "Epoch 11/100\n",
            "93/93 [==============================] - 8s 85ms/step - loss: 4.6159 - accuracy: 0.2126 - val_loss: 4.5039 - val_accuracy: 0.2206\n",
            "Epoch 12/100\n",
            "93/93 [==============================] - 8s 86ms/step - loss: 4.4960 - accuracy: 0.2232 - val_loss: 4.3578 - val_accuracy: 0.2329\n",
            "Epoch 13/100\n",
            "93/93 [==============================] - 8s 85ms/step - loss: 4.3941 - accuracy: 0.2294 - val_loss: 4.2889 - val_accuracy: 0.2348\n",
            "Epoch 14/100\n",
            "93/93 [==============================] - 8s 84ms/step - loss: 4.2981 - accuracy: 0.2368 - val_loss: 4.1774 - val_accuracy: 0.2427\n",
            "Epoch 15/100\n",
            "93/93 [==============================] - 8s 85ms/step - loss: 4.2043 - accuracy: 0.2448 - val_loss: 4.0784 - val_accuracy: 0.2530\n",
            "Epoch 16/100\n",
            "93/93 [==============================] - 8s 84ms/step - loss: 4.1095 - accuracy: 0.2517 - val_loss: 3.9969 - val_accuracy: 0.2589\n",
            "Epoch 17/100\n",
            "93/93 [==============================] - 8s 85ms/step - loss: 4.0254 - accuracy: 0.2598 - val_loss: 3.9029 - val_accuracy: 0.2684\n",
            "Epoch 18/100\n",
            "93/93 [==============================] - 8s 85ms/step - loss: 3.9493 - accuracy: 0.2663 - val_loss: 3.8377 - val_accuracy: 0.2764\n",
            "Epoch 19/100\n",
            "93/93 [==============================] - 8s 85ms/step - loss: 3.8609 - accuracy: 0.2748 - val_loss: 3.7115 - val_accuracy: 0.2870\n",
            "Epoch 20/100\n",
            "93/93 [==============================] - 8s 85ms/step - loss: 3.7921 - accuracy: 0.2805 - val_loss: 3.6692 - val_accuracy: 0.2948\n",
            "Epoch 21/100\n",
            "93/93 [==============================] - 8s 87ms/step - loss: 3.7189 - accuracy: 0.2892 - val_loss: 3.6046 - val_accuracy: 0.2987\n",
            "Epoch 22/100\n",
            "93/93 [==============================] - 8s 85ms/step - loss: 3.6508 - accuracy: 0.2963 - val_loss: 3.5384 - val_accuracy: 0.3077\n",
            "Epoch 23/100\n",
            "93/93 [==============================] - 8s 85ms/step - loss: 3.5706 - accuracy: 0.3051 - val_loss: 3.4766 - val_accuracy: 0.3145\n",
            "Epoch 24/100\n",
            "93/93 [==============================] - 8s 85ms/step - loss: 3.5070 - accuracy: 0.3108 - val_loss: 3.4034 - val_accuracy: 0.3242\n",
            "Epoch 25/100\n",
            "93/93 [==============================] - 8s 87ms/step - loss: 3.4506 - accuracy: 0.3176 - val_loss: 3.3466 - val_accuracy: 0.3290\n",
            "Epoch 26/100\n",
            "93/93 [==============================] - 8s 86ms/step - loss: 3.3881 - accuracy: 0.3255 - val_loss: 3.2842 - val_accuracy: 0.3371\n",
            "Epoch 27/100\n",
            "93/93 [==============================] - 8s 85ms/step - loss: 3.3213 - accuracy: 0.3351 - val_loss: 3.2155 - val_accuracy: 0.3492\n",
            "Epoch 28/100\n",
            "93/93 [==============================] - 8s 85ms/step - loss: 3.2678 - accuracy: 0.3412 - val_loss: 3.1836 - val_accuracy: 0.3532\n",
            "Epoch 29/100\n",
            "93/93 [==============================] - 8s 85ms/step - loss: 3.2180 - accuracy: 0.3471 - val_loss: 3.1347 - val_accuracy: 0.3613\n",
            "Epoch 30/100\n",
            "93/93 [==============================] - 8s 85ms/step - loss: 3.1538 - accuracy: 0.3567 - val_loss: 3.0751 - val_accuracy: 0.3679\n",
            "Epoch 31/100\n",
            "93/93 [==============================] - 8s 86ms/step - loss: 3.1085 - accuracy: 0.3617 - val_loss: 2.9899 - val_accuracy: 0.3814\n",
            "Epoch 32/100\n",
            "93/93 [==============================] - 8s 85ms/step - loss: 3.0564 - accuracy: 0.3708 - val_loss: 2.9484 - val_accuracy: 0.3906\n",
            "Epoch 33/100\n",
            "93/93 [==============================] - 8s 86ms/step - loss: 3.0012 - accuracy: 0.3778 - val_loss: 2.8928 - val_accuracy: 0.3996\n",
            "Epoch 34/100\n",
            "93/93 [==============================] - 8s 86ms/step - loss: 2.9664 - accuracy: 0.3828 - val_loss: 2.8826 - val_accuracy: 0.3989\n",
            "Epoch 35/100\n",
            "93/93 [==============================] - 8s 85ms/step - loss: 2.9086 - accuracy: 0.3917 - val_loss: 2.8160 - val_accuracy: 0.4074\n",
            "Epoch 36/100\n",
            "93/93 [==============================] - 8s 85ms/step - loss: 2.8676 - accuracy: 0.3988 - val_loss: 2.7760 - val_accuracy: 0.4136\n",
            "Epoch 37/100\n",
            "93/93 [==============================] - 8s 86ms/step - loss: 2.8224 - accuracy: 0.4059 - val_loss: 2.7236 - val_accuracy: 0.4218\n",
            "Epoch 38/100\n",
            "93/93 [==============================] - 8s 87ms/step - loss: 2.7807 - accuracy: 0.4109 - val_loss: 2.6958 - val_accuracy: 0.4269\n",
            "Epoch 39/100\n",
            "93/93 [==============================] - 8s 85ms/step - loss: 2.7385 - accuracy: 0.4187 - val_loss: 2.6633 - val_accuracy: 0.4295\n",
            "Epoch 40/100\n",
            "93/93 [==============================] - 8s 84ms/step - loss: 2.6865 - accuracy: 0.4253 - val_loss: 2.6084 - val_accuracy: 0.4427\n",
            "Epoch 41/100\n",
            "93/93 [==============================] - 8s 84ms/step - loss: 2.6496 - accuracy: 0.4322 - val_loss: 2.5552 - val_accuracy: 0.4527\n",
            "Epoch 42/100\n",
            "93/93 [==============================] - 8s 84ms/step - loss: 2.6117 - accuracy: 0.4397 - val_loss: 2.5136 - val_accuracy: 0.4573\n",
            "Epoch 43/100\n",
            "93/93 [==============================] - 8s 86ms/step - loss: 2.5772 - accuracy: 0.4450 - val_loss: 2.5020 - val_accuracy: 0.4596\n",
            "Epoch 44/100\n",
            "93/93 [==============================] - 8s 86ms/step - loss: 2.5407 - accuracy: 0.4501 - val_loss: 2.4574 - val_accuracy: 0.4654\n",
            "Epoch 45/100\n",
            "93/93 [==============================] - 8s 85ms/step - loss: 2.5027 - accuracy: 0.4564 - val_loss: 2.4257 - val_accuracy: 0.4717\n",
            "Epoch 46/100\n",
            "93/93 [==============================] - 8s 84ms/step - loss: 2.4614 - accuracy: 0.4645 - val_loss: 2.3645 - val_accuracy: 0.4826\n",
            "Epoch 47/100\n",
            "93/93 [==============================] - 8s 85ms/step - loss: 2.4309 - accuracy: 0.4692 - val_loss: 2.3572 - val_accuracy: 0.4852\n",
            "Epoch 48/100\n",
            "93/93 [==============================] - 8s 85ms/step - loss: 2.3938 - accuracy: 0.4761 - val_loss: 2.3047 - val_accuracy: 0.4958\n",
            "Epoch 49/100\n",
            "93/93 [==============================] - 8s 87ms/step - loss: 2.3587 - accuracy: 0.4821 - val_loss: 2.2701 - val_accuracy: 0.5010\n",
            "Epoch 50/100\n",
            "93/93 [==============================] - 8s 85ms/step - loss: 2.3225 - accuracy: 0.4887 - val_loss: 2.2414 - val_accuracy: 0.5059\n",
            "Epoch 51/100\n",
            "93/93 [==============================] - 8s 85ms/step - loss: 2.2915 - accuracy: 0.4945 - val_loss: 2.2018 - val_accuracy: 0.5144\n",
            "Epoch 52/100\n",
            "93/93 [==============================] - 8s 85ms/step - loss: 2.2539 - accuracy: 0.5013 - val_loss: 2.1845 - val_accuracy: 0.5188\n",
            "Epoch 53/100\n",
            "93/93 [==============================] - 8s 85ms/step - loss: 2.2285 - accuracy: 0.5058 - val_loss: 2.1303 - val_accuracy: 0.5290\n",
            "Epoch 54/100\n",
            "93/93 [==============================] - 8s 85ms/step - loss: 2.1941 - accuracy: 0.5131 - val_loss: 2.1233 - val_accuracy: 0.5313\n",
            "Epoch 55/100\n",
            "93/93 [==============================] - 8s 86ms/step - loss: 2.1584 - accuracy: 0.5200 - val_loss: 2.0637 - val_accuracy: 0.5404\n",
            "Epoch 56/100\n",
            "93/93 [==============================] - 8s 84ms/step - loss: 2.1387 - accuracy: 0.5237 - val_loss: 2.0453 - val_accuracy: 0.5450\n",
            "Epoch 57/100\n",
            "93/93 [==============================] - 8s 85ms/step - loss: 2.0972 - accuracy: 0.5319 - val_loss: 2.0217 - val_accuracy: 0.5510\n",
            "Epoch 58/100\n",
            "93/93 [==============================] - 8s 85ms/step - loss: 2.0661 - accuracy: 0.5383 - val_loss: 2.0025 - val_accuracy: 0.5535\n",
            "Epoch 59/100\n",
            "93/93 [==============================] - 8s 85ms/step - loss: 2.0359 - accuracy: 0.5443 - val_loss: 1.9515 - val_accuracy: 0.5660\n",
            "Epoch 60/100\n",
            "93/93 [==============================] - 8s 84ms/step - loss: 2.0096 - accuracy: 0.5500 - val_loss: 1.9441 - val_accuracy: 0.5642\n",
            "Epoch 61/100\n",
            "93/93 [==============================] - 8s 86ms/step - loss: 1.9705 - accuracy: 0.5571 - val_loss: 1.9108 - val_accuracy: 0.5705\n",
            "Epoch 62/100\n",
            "93/93 [==============================] - 8s 84ms/step - loss: 1.9548 - accuracy: 0.5603 - val_loss: 1.9001 - val_accuracy: 0.5722\n",
            "Epoch 63/100\n",
            "93/93 [==============================] - 8s 85ms/step - loss: 1.9223 - accuracy: 0.5649 - val_loss: 1.8437 - val_accuracy: 0.5843\n",
            "Epoch 64/100\n",
            "93/93 [==============================] - 8s 84ms/step - loss: 1.8854 - accuracy: 0.5730 - val_loss: 1.8299 - val_accuracy: 0.5891\n",
            "Epoch 65/100\n",
            "93/93 [==============================] - 8s 84ms/step - loss: 1.8614 - accuracy: 0.5790 - val_loss: 1.7982 - val_accuracy: 0.5952\n",
            "Epoch 66/100\n",
            "93/93 [==============================] - 8s 84ms/step - loss: 1.8366 - accuracy: 0.5836 - val_loss: 1.7579 - val_accuracy: 0.6032\n",
            "Epoch 67/100\n",
            "93/93 [==============================] - 8s 85ms/step - loss: 1.8200 - accuracy: 0.5862 - val_loss: 1.7258 - val_accuracy: 0.6115\n",
            "Epoch 68/100\n",
            "93/93 [==============================] - 8s 84ms/step - loss: 1.7859 - accuracy: 0.5933 - val_loss: 1.7198 - val_accuracy: 0.6123\n",
            "Epoch 69/100\n",
            "93/93 [==============================] - 8s 86ms/step - loss: 1.7647 - accuracy: 0.5986 - val_loss: 1.6768 - val_accuracy: 0.6201\n",
            "Epoch 70/100\n",
            "93/93 [==============================] - 8s 83ms/step - loss: 1.7294 - accuracy: 0.6054 - val_loss: 1.6451 - val_accuracy: 0.6299\n",
            "Epoch 71/100\n",
            "93/93 [==============================] - 8s 84ms/step - loss: 1.7032 - accuracy: 0.6126 - val_loss: 1.6349 - val_accuracy: 0.6322\n",
            "Epoch 72/100\n",
            "93/93 [==============================] - 8s 84ms/step - loss: 1.6764 - accuracy: 0.6180 - val_loss: 1.6190 - val_accuracy: 0.6353\n",
            "Epoch 73/100\n",
            "93/93 [==============================] - 8s 83ms/step - loss: 1.6542 - accuracy: 0.6222 - val_loss: 1.5827 - val_accuracy: 0.6430\n",
            "Epoch 74/100\n",
            "93/93 [==============================] - 8s 84ms/step - loss: 1.6233 - accuracy: 0.6291 - val_loss: 1.5515 - val_accuracy: 0.6490\n",
            "Epoch 75/100\n",
            "93/93 [==============================] - 8s 85ms/step - loss: 1.6010 - accuracy: 0.6343 - val_loss: 1.5303 - val_accuracy: 0.6546\n",
            "Epoch 76/100\n",
            "93/93 [==============================] - 8s 85ms/step - loss: 1.5886 - accuracy: 0.6375 - val_loss: 1.5207 - val_accuracy: 0.6576\n",
            "Epoch 77/100\n",
            "93/93 [==============================] - 8s 84ms/step - loss: 1.5553 - accuracy: 0.6445 - val_loss: 1.4854 - val_accuracy: 0.6630\n",
            "Epoch 78/100\n",
            "93/93 [==============================] - 8s 85ms/step - loss: 1.5338 - accuracy: 0.6491 - val_loss: 1.4848 - val_accuracy: 0.6648\n",
            "Epoch 79/100\n",
            "93/93 [==============================] - 8s 85ms/step - loss: 1.5122 - accuracy: 0.6535 - val_loss: 1.4420 - val_accuracy: 0.6715\n",
            "Epoch 80/100\n",
            "93/93 [==============================] - 8s 84ms/step - loss: 1.4859 - accuracy: 0.6602 - val_loss: 1.3999 - val_accuracy: 0.6832\n",
            "Epoch 81/100\n",
            "93/93 [==============================] - 8s 85ms/step - loss: 1.4643 - accuracy: 0.6639 - val_loss: 1.4013 - val_accuracy: 0.6837\n",
            "Epoch 82/100\n",
            "93/93 [==============================] - 8s 84ms/step - loss: 1.4441 - accuracy: 0.6696 - val_loss: 1.3789 - val_accuracy: 0.6877\n",
            "Epoch 83/100\n",
            "93/93 [==============================] - 8s 84ms/step - loss: 1.4186 - accuracy: 0.6750 - val_loss: 1.3594 - val_accuracy: 0.6923\n",
            "Epoch 84/100\n",
            "93/93 [==============================] - 8s 86ms/step - loss: 1.3935 - accuracy: 0.6808 - val_loss: 1.3353 - val_accuracy: 0.6974\n",
            "Epoch 85/100\n",
            "93/93 [==============================] - 8s 83ms/step - loss: 1.3692 - accuracy: 0.6872 - val_loss: 1.3166 - val_accuracy: 0.7049\n",
            "Epoch 86/100\n",
            "93/93 [==============================] - 8s 84ms/step - loss: 1.3521 - accuracy: 0.6908 - val_loss: 1.2852 - val_accuracy: 0.7110\n",
            "Epoch 87/100\n",
            "93/93 [==============================] - 8s 85ms/step - loss: 1.3332 - accuracy: 0.6943 - val_loss: 1.2677 - val_accuracy: 0.7156\n",
            "Epoch 88/100\n",
            "93/93 [==============================] - 8s 84ms/step - loss: 1.3093 - accuracy: 0.7016 - val_loss: 1.2486 - val_accuracy: 0.7183\n",
            "Epoch 89/100\n",
            "93/93 [==============================] - 8s 84ms/step - loss: 1.2884 - accuracy: 0.7056 - val_loss: 1.2214 - val_accuracy: 0.7250\n",
            "Epoch 90/100\n",
            "93/93 [==============================] - 8s 83ms/step - loss: 1.2649 - accuracy: 0.7118 - val_loss: 1.2083 - val_accuracy: 0.7275\n",
            "Epoch 91/100\n",
            "93/93 [==============================] - 8s 84ms/step - loss: 1.2461 - accuracy: 0.7157 - val_loss: 1.1835 - val_accuracy: 0.7324\n",
            "Epoch 92/100\n",
            "93/93 [==============================] - 8s 85ms/step - loss: 1.2242 - accuracy: 0.7199 - val_loss: 1.1715 - val_accuracy: 0.7399\n",
            "Epoch 93/100\n",
            "93/93 [==============================] - 8s 84ms/step - loss: 1.2083 - accuracy: 0.7257 - val_loss: 1.1443 - val_accuracy: 0.7435\n",
            "Epoch 94/100\n",
            "93/93 [==============================] - 8s 84ms/step - loss: 1.1841 - accuracy: 0.7317 - val_loss: 1.1253 - val_accuracy: 0.7478\n",
            "Epoch 95/100\n",
            "93/93 [==============================] - 8s 84ms/step - loss: 1.1700 - accuracy: 0.7339 - val_loss: 1.1049 - val_accuracy: 0.7559\n",
            "Epoch 96/100\n",
            "93/93 [==============================] - 8s 83ms/step - loss: 1.1588 - accuracy: 0.7370 - val_loss: 1.0810 - val_accuracy: 0.7607\n",
            "Epoch 97/100\n",
            "93/93 [==============================] - 8s 83ms/step - loss: 1.1317 - accuracy: 0.7431 - val_loss: 1.0977 - val_accuracy: 0.7555\n",
            "Epoch 98/100\n",
            "93/93 [==============================] - 8s 84ms/step - loss: 1.1086 - accuracy: 0.7475 - val_loss: 1.0608 - val_accuracy: 0.7633\n",
            "Epoch 99/100\n",
            "93/93 [==============================] - 8s 85ms/step - loss: 1.0944 - accuracy: 0.7516 - val_loss: 1.0310 - val_accuracy: 0.7695\n",
            "Epoch 100/100\n",
            "93/93 [==============================] - 8s 85ms/step - loss: 1.0733 - accuracy: 0.7567 - val_loss: 1.0173 - val_accuracy: 0.7735\n"
          ],
          "name": "stdout"
        }
      ]
    },
    {
      "cell_type": "code",
      "metadata": {
        "id": "Ewli0cteLEt6",
        "colab_type": "code",
        "colab": {}
      },
      "source": [
        "def generate_text(model, starting_str, \n",
        "           len_generated_text=500, \n",
        "           max_input_length=80,\n",
        "           scale_factor=1.0):\n",
        "    \n",
        "    starting_str = starting_str.lower()\n",
        "    encoded_input = [word_2_int_dict[s] for s in starting_str]\n",
        "    encoded_input = tf.reshape(encoded_input, (1, -1))\n",
        "\n",
        "    generated_str = starting_str\n",
        "\n",
        "    model.reset_states()\n",
        "    for i in range(len_generated_text):\n",
        "        logits = model(encoded_input)        \n",
        "        logits = tf.squeeze(logits, 0)\n",
        "\n",
        "        scaled_logits = logits * scale_factor\n",
        "        new_char_indx = tf.random.categorical(scaled_logits, num_samples=1)\n",
        "        new_char_indx = tf.squeeze(new_char_indx)[-1].numpy()          \n",
        "        generated_str += str(word_array[new_char_indx])\n",
        "        \n",
        "        new_char_indx = tf.expand_dims([new_char_indx], 0)\n",
        "\n",
        "        encoded_input = tf.concat(\n",
        "            [encoded_input, new_char_indx],\n",
        "            axis=1)\n",
        "        encoded_input = encoded_input[:, -max_input_length:]\n",
        "\n",
        "    return generated_str\n",
        "\n",
        "def generate_text_words(model, starting_str, len_generated, max_input_length, scale_factor):\n",
        "    tokened_starting_string = rex_tokenizer.tokenize(starting_str)\n",
        "    encoded_input = [word_2_int_dict[s] for s in tokened_starting_string]\n",
        "    encoded_input = tf.reshape(encoded_input, (1, -1))\n",
        "\n",
        "    generated_str = starting_str\n",
        "    model.reset_states()\n",
        "    for i in range(len_generated):\n",
        "        logits = model.predict(encoded_input)\n",
        "        logits = tf.squeeze(logits, 0)\n",
        "        scaled_logits = logits * scale_factor\n",
        "        new_word_indx = tf.random.categorical(scaled_logits, num_samples=1)\n",
        "        new_word_indx = tf.squeeze(new_word_indx)[-1].numpy()\n",
        "        new_word_indx = tf.expand_dims([new_word_indx], 0)\n",
        "        generated_str += ' ' + str(word_array[new_word_indx][0])\n",
        "        encoded_input = tf.concat(\n",
        "                    [encoded_input, new_word_indx],\n",
        "                    axis=1)\n",
        "\n",
        "        encoded_input = encoded_input[:, -max_input_length:]\n",
        "\n",
        "    return generated_str"
      ],
      "execution_count": null,
      "outputs": []
    },
    {
      "cell_type": "code",
      "metadata": {
        "id": "gmEF68q6M8YH",
        "colab_type": "code",
        "colab": {
          "base_uri": "https://localhost:8080/",
          "height": 72
        },
        "outputId": "d99eabb2-f4ed-4fbe-e17e-1f045dcbd436"
      },
      "source": [
        "generated_text = generate_text_words(model, \n",
        "                               starting_str=\"It is so wonderful to be in this beautiful city\", \n",
        "                               scale_factor=2, \n",
        "                               len_generated=300,\n",
        "                               max_input_length=seq_length)\n",
        "\n",
        "print(generated_text)"
      ],
      "execution_count": null,
      "outputs": [
        {
          "output_type": "stream",
          "text": [
            "/usr/local/lib/python3.6/dist-packages/ipykernel_launcher.py:45: FutureWarning: Using a non-tuple sequence for multidimensional indexing is deprecated; use `arr[tuple(seq)]` instead of `arr[seq]`. In the future this will be interpreted as an array index, `arr[np.array(seq)]`, which will result either in an error or a different result.\n"
          ],
          "name": "stderr"
        },
        {
          "output_type": "stream",
          "text": [
            "It is so wonderful to be in this beautiful city , we must also be a safe country. Immigration security is national security. Hillary 's pledge to enact `` open borders , '' she means totally unlimited immigration. In fact , Hillary Clinton has terrible instincts on WikiLeaks and deleted and an ally of the United States , plus another $ 130 billion -- and it 's the same attitude of arrogance and entitlement that led her to violate federal law as Secretary of State , hide and delete her emails , destroy her phones with a hammer , to protect those jurisdictions that do assist federal authorities. Number five , cancel unconstitutional executive orders and enforce all laws relating to help and expand its health care costs are numerous to vote for Trump. Early ballots are mailed out on October 12th , and the destruction of our country. I am asking for your vote so we can replace Obamacare and save health care for their families , and yes , we will build a wall. We are the campaign of unity , and we are going to bring our jobs back. Mexico 's something nice ? I do n't think so. I do n't think so. She comes home , and he said , outrageously , it 's like , it 's stampede , `` Oh , that 's crass. '' It 's just one more reason why , it is going to be a victory for the White House , and we 're going to make America great again. Thank you very much , Michigan. It 's going to be a victory for the people. We Will Make America Wealthy Again. We Will Make America Strong Again. We Will Make America Safe Again. And We Will Make America Great Again. Thank you , and God Bless ! Thanks\n"
          ],
          "name": "stdout"
        }
      ]
    },
    {
      "cell_type": "code",
      "metadata": {
        "id": "9GnOyn7-cfmO",
        "colab_type": "code",
        "colab": {
          "base_uri": "https://localhost:8080/",
          "height": 402
        },
        "outputId": "2dc283c3-285e-4d69-9961-82b7639d0125"
      },
      "source": [
        "\n",
        "from nltk.tokenize import sent_tokenize\n",
        "\n",
        "sent_tokenize(generated_text)"
      ],
      "execution_count": null,
      "outputs": [
        {
          "output_type": "execute_result",
          "data": {
            "text/plain": [
              "['It is so wonderful to be in this beautiful city , we must also be a safe country.',\n",
              " 'Immigration security is national security.',\n",
              " \"Hillary 's pledge to enact `` open borders , '' she means totally unlimited immigration.\",\n",
              " \"In fact , Hillary Clinton has terrible instincts on WikiLeaks and deleted and an ally of the United States , plus another $ 130 billion -- and it 's the same attitude of arrogance and entitlement that led her to violate federal law as Secretary of State , hide and delete her emails , destroy her phones with a hammer , to protect those jurisdictions that do assist federal authorities.\",\n",
              " 'Number five , cancel unconstitutional executive orders and enforce all laws relating to help and expand its health care costs are numerous to vote for Trump.',\n",
              " 'Early ballots are mailed out on October 12th , and the destruction of our country.',\n",
              " 'I am asking for your vote so we can replace Obamacare and save health care for their families , and yes , we will build a wall.',\n",
              " 'We are the campaign of unity , and we are going to bring our jobs back.',\n",
              " \"Mexico 's something nice ?\",\n",
              " \"I do n't think so.\",\n",
              " \"I do n't think so.\",\n",
              " \"She comes home , and he said , outrageously , it 's like , it 's stampede , `` Oh , that 's crass. ''\",\n",
              " \"It 's just one more reason why , it is going to be a victory for the White House , and we 're going to make America great again.\",\n",
              " 'Thank you very much , Michigan.',\n",
              " \"It 's going to be a victory for the people.\",\n",
              " 'We Will Make America Wealthy Again.',\n",
              " 'We Will Make America Strong Again.',\n",
              " 'We Will Make America Safe Again.',\n",
              " 'And We Will Make America Great Again.',\n",
              " 'Thank you , and God Bless !',\n",
              " 'Thanks']"
            ]
          },
          "metadata": {
            "tags": []
          },
          "execution_count": 38
        }
      ]
    },
    {
      "cell_type": "code",
      "metadata": {
        "id": "DREMY0mvuH-2",
        "colab_type": "code",
        "colab": {}
      },
      "source": [
        ""
      ],
      "execution_count": null,
      "outputs": []
    }
  ]
}